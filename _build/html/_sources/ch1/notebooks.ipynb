{
 "cells": [
  {
   "cell_type": "markdown",
   "metadata": {},
   "source": [
    "# Blah\n",
    "\n",
    "Remark that $$ \\int_{-\\infty}^{\\infty} e^{-x^2}dx = \\sqrt{\\pi} $$"
   ]
  }
 ],
 "metadata": {
  "language_info": {
   "name": "python"
  }
 },
 "nbformat": 4,
 "nbformat_minor": 2
}
